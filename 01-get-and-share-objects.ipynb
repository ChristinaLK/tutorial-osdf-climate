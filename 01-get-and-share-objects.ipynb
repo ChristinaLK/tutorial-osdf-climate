{
 "cells": [
  {
   "cell_type": "markdown",
   "id": "17dfa40b-03f1-40bb-988a-c3107d00341a",
   "metadata": {},
   "source": [
    "# Get and Share Objects with the Pelican Client\n",
    "\n",
    "TODO: Summary\n",
    "\n",
    "### Objectives\n",
    "\n",
    "- define each component of a pelican / OSDF URL (markdown text)\n",
    "- list the key verbs for interacting with objects (markdown text)\n",
    "- apply knowledge to get an object, create an output, and put it somewhere.\n",
    "    - randomly assign a URL to each person via * magic *\n",
    "    - have them get a file\n",
    "    - run the script that visualizes the data\n",
    "    - put the resulting file back into a common origin\n",
    "    - use pelican ls\n",
    "    - pull someone else's visualization + look at it. "
   ]
  },
  {
   "cell_type": "markdown",
   "id": "2b0b6c9c-30bd-4c1a-8dea-65a69956ec23",
   "metadata": {},
   "source": [
    "## Our Data\n",
    "\n",
    "The data we'll be working with today is the [NOAA Global Historical Climatology Network](https://www.ncei.noaa.gov/metadata/geoportal/rest/metadata/item/gov.noaa.ncdc:C00861/html) dataset. From the [README](https://docs.opendata.aws/noaa-ghcn-pds/readme.html): \n",
    "\n",
    "> GHCN-Daily is a dataset that contains daily observations over global land areas. It contains station-based measurements from land-based stations worldwide, about two thirds of which are for precipitation measurements only (Menne et al., 2012). GHCN-Daily is a composite of climate records from numerous sources that were merged together and subjected to a common suite of quality assurance reviews (Durre et al., 2010). \n",
    "\n",
    "\n",
    "The GHCN data set is available via Amazon AWS S3, at \n",
    "\n",
    "```\n",
    "https://noaa-ghcn-pds.s3.amazonaws.com/\n",
    "```\n",
    "\n",
    "The OSDF is already connected to AWS under the `/aws-opendata` prefix, so we will be able to access this data via Pelican and the OSDF. "
   ]
  },
  {
   "cell_type": "markdown",
   "id": "3520a0f7-4c83-46e1-8c09-57e10f98f184",
   "metadata": {},
   "source": [
    "## Get Data Objects\n",
    "\n",
    "In order to access an object in the OSDF, we need to construct a URL. This URL has two pieces: the **namespace** and then the **object path**\n",
    "\n",
    "TODO: add Andrew's image of URL construction. \n",
    "\n",
    "To access this data in this bucket via the OSDF, we need to know the \"namespace prefix\" of this dataset within the OSDF.\n",
    "\n",
    "As mentioned, the OSDF includes AWS data under the `/aws-opendata` namespace prefix. The GHCN \n",
    "website shows the data is in the \"US East 1\" part of AWS, so we'll extend the OSDF namespace prefix to\n",
    "`/aws-opendata/us-east-1`.\n",
    "From the above link, we see that the GHCN dataset is linked in the AWS under `noaa-ghcn-pds`, so the full namespace prefix to the\n",
    "dataset in the OSDF is `/aws-opendata/us-east-1/noaa-ghcn-pds/`.\n",
    "\n",
    "We can't (currently) list the objects in this location, but you can browse the AWS index link \n",
    "([https://noaa-ghcn-pds.s3.amazonaws.com/](https://noaa-ghcn-pds.s3.amazonaws.com/)) to see the files available.\n",
    "\n",
    "In the top \"level\" of the dataset are several readme files.\n",
    "Let's get the list of stations that are contained in the dataset, so we can identify what files we want to download.\n",
    "\n",
    "The file `ghcnd-stations.txt` contains the desired list. \n",
    "This is the \"object name\" that we want to fetch using the OSDF.\n",
    "We combine the \"namespace prefix\" and the \"object name\" together to get the desired OSDF link:\n",
    "\n",
    "```\n",
    "osdf:///aws-opendata/us-east-1/noaa-ghcn-pds/ghcnd-stations.txt`.\n",
    "```\n",
    "\n",
    "To download the file, we use the Pelican client with the OSDF URL:\n"
   ]
  },
  {
   "cell_type": "code",
   "execution_count": 5,
   "id": "79b44415-7e70-4d0f-ad0e-62e198a81a58",
   "metadata": {},
   "outputs": [
    {
     "name": "stdout",
     "output_type": "stream",
     "text": [
      "ghcnd-stations.txt 0.00 b / 10.50 MiB [--------------------------] 0s ] 0.00 b/s\n",
      "\u001b[1A\u001b[Jghcnd-stations.txt 0.00 b / 10.50 MiB [--------------------------] 0s ] 0.00 b/s\n",
      "\u001b[1A\u001b[Jghcnd-stations.txt 1.75 MiB / 10.50 MiB [===>--------------------] 0s ] 0.00 b/s\n",
      "\u001b[1A\u001b[Jghcnd-stations.txt 2.00 MiB / 10.50 MiB [====>-------------------] 0s ] 0.00 b/s\n",
      "\u001b[1A\u001b[Jghcnd-stations.txt 2.00 MiB / 10.50 MiB [====>-------------------] 0s ] 0.00 b/s\n",
      "\u001b[1A\u001b[Jghcnd-stations.txt 2.00 MiB / 10.50 MiB [====>-------------------] 0s ] 0.00 b/s\n",
      "\u001b[1A\u001b[Jghcnd-stations.txt 2.00 MiB / 10.50 MiB [====>-------------------] 0s ] 0.00 b/s\n",
      "\u001b[1A\u001b[Jghcnd-stations.txt 2.00 MiB / 10.50 MiB [====>-------------------] 0s ] 0.00 b/s\n",
      "\u001b[1A\u001b[Jghcnd-stations.txt 2.00 MiB / 10.50 MiB [====>-------------------] 0s ] 0.00 b/s\n",
      "\u001b[1A\u001b[Jghcnd-stations.txt 2.00 MiB / 10.50 MiB [====>-------------------] 0s ] 0.00 b/s\n",
      "\u001b[1A\u001b[Jghcnd-stations.txt 2.00 MiB / 10.50 MiB [====>-------------------] 0s ] 0.00 b/s\n",
      "\u001b[1A\u001b[Jghcnd-stations.txt 2.00 MiB / 10.50 MiB [====>-------------------] 0s ] 0.00 b/s\n",
      "\u001b[1A\u001b[Jghcnd-stations.txt 2.00 MiB / 10.50 MiB [====>-------------------] 0s ] 0.00 b/s\n",
      "\u001b[1A\u001b[Jghcnd-stations.txt 2.00 MiB / 10.50 MiB [====>-------------------] 0s ] 0.00 b/s\n",
      "\u001b[1A\u001b[Jghcnd-stations.txt 2.00 MiB / 10.50 MiB [====>-------------------] 0s ] 0.00 b/s\n",
      "\u001b[1A\u001b[Jghcnd-stations.txt 2.00 MiB / 10.50 MiB [====>-------------------] 0s ] 0.00 b/s\n",
      "\u001b[1A\u001b[Jghcnd-stations.txt 2.00 MiB / 10.50 MiB [====>-------------------] 0s ] 0.00 b/s\n",
      "\u001b[1A\u001b[Jghcnd-stations.txt 2.00 MiB / 10.50 MiB [====>-------------------] 0s ] 0.00 b/s\n",
      "\u001b[1A\u001b[Jghcnd-stations.txt 6.00 MiB / 10.50 MiB [=============>----------] 0s ] 0.00 b/s\n",
      "\u001b[1A\u001b[Jghcnd-stations.txt 6.00 MiB / 10.50 MiB [=============>----------] 0s ] 0.00 b/s\n",
      "\u001b[1A\u001b[Jghcnd-stations.txt 6.00 MiB / 10.50 MiB [=============>----------] 0s ] 0.00 b/s\n",
      "\u001b[1A\u001b[J\n"
     ]
    }
   ],
   "source": [
    "pelican object get osdf:///aws-opendata/us-east-1/noaa-ghcn-pds/ghcnd-stations.txt ./"
   ]
  },
  {
   "cell_type": "markdown",
   "id": "a601ab49-3b4f-4de7-a60e-89808ba1d2e5",
   "metadata": {},
   "source": [
    "Once downloaded, we can view the contents: "
   ]
  },
  {
   "cell_type": "code",
   "execution_count": null,
   "id": "c654c2a4-2e2a-4dcf-a430-eabbcd71221e",
   "metadata": {},
   "outputs": [],
   "source": [
    "head ghcnd-stations.txt"
   ]
  },
  {
   "cell_type": "markdown",
   "id": "0e72e888-bbea-4b08-b99b-83cb1e60267a",
   "metadata": {},
   "source": [
    "### Download specific station data\n",
    "\n",
    "Next we will download all the data for a specific station. To do this, we'll need the station ID -- \n",
    "the first field in each record of the `ghcnd-stations.txt` file. \n",
    "\n",
    "There are a lot of stations listed (over 120,000!!). For this example, we'll use the airport in Madison, WI. The \n",
    "record for that station is: \n",
    "\n",
    "```\n",
    "USW00014837  43.1406  -89.3453  261.8 WI MADISON DANE CO RGNL AP                72641\n",
    "```\n",
    "\n",
    "So we'll be using station ID `USW00014837`.\n",
    "\n",
    "Once again, we will need to construct our URL. The namespace prefix hasn't changed, but the path to the \n",
    "station data will be under the path `csv/by_station` and the filename uses the syntax `<STATION ID>.csv`. \n",
    "\n",
    "Building the URL, this gives: \n",
    "\n",
    "```\n",
    "osdf:///aws-opendata/us-east-1/noaa-ghcn-pds/csv/by_station/USW00014837.csv\n",
    "```"
   ]
  },
  {
   "cell_type": "code",
   "execution_count": null,
   "id": "cf8cc07c-5408-4441-b6e8-bdcf312a2168",
   "metadata": {},
   "outputs": [],
   "source": [
    "pelican object get osdf:///aws-opendata/us-east-1/noaa-ghcn-pds/csv/by_station/USW00014837.csv ./"
   ]
  },
  {
   "cell_type": "markdown",
   "id": "6109336e-16ac-4ecb-a834-3d98c506e9c2",
   "metadata": {},
   "source": [
    "And we can again view the contents of the file:"
   ]
  },
  {
   "cell_type": "code",
   "execution_count": 2,
   "id": "d5497db2-8534-4e0b-95e9-0cba6e776039",
   "metadata": {},
   "outputs": [
    {
     "name": "stdout",
     "output_type": "stream",
     "text": [
      "ID,DATE,ELEMENT,DATA_VALUE,M_FLAG,Q_FLAG,S_FLAG,OBS_TIME\n",
      "USW00014837,19391001,TMAX,194,,,X,\n",
      "USW00014837,19391002,TMAX,211,,,X,\n",
      "USW00014837,19391003,TMAX,233,,,X,\n",
      "USW00014837,19391004,TMAX,272,,,X,\n",
      "USW00014837,19391005,TMAX,211,,,X,\n",
      "USW00014837,19391006,TMAX,250,,,X,\n",
      "USW00014837,19391007,TMAX,294,,,X,\n",
      "USW00014837,19391008,TMAX,261,,,X,\n",
      "USW00014837,19391009,TMAX,239,,,X,\n"
     ]
    }
   ],
   "source": [
    "head USW00014837.csv"
   ]
  },
  {
   "cell_type": "markdown",
   "id": "4be687f2-34a7-4e8c-b86d-6a53050f3ea7",
   "metadata": {},
   "source": [
    "## Share Data Objects"
   ]
  },
  {
   "cell_type": "markdown",
   "id": "2e7c57a8-fddb-46f7-89c0-91d7887d34b9",
   "metadata": {},
   "source": [
    "Let's visualize the data we just downloaded and share our results via the OSDF. "
   ]
  },
  {
   "cell_type": "code",
   "execution_count": 3,
   "id": "db3ba8fe-f9a8-4410-919d-5239b3eeda75",
   "metadata": {},
   "outputs": [
    {
     "name": "stdout",
     "output_type": "stream",
     "text": [
      "ELEMENT          TMIN          TMAX\n",
      "count    21701.000000  21701.000000\n",
      "mean        35.611256     56.267353\n",
      "std         20.147128     22.528634\n",
      "min        -36.940000    -14.080000\n",
      "25%         21.920000     37.040000\n",
      "50%         35.960000     57.920000\n",
      "75%         51.980000     75.920000\n",
      "max         82.940000    104.000000\n",
      "\n",
      "\n",
      "Plotting histograms of observations for 21,701 days, spanning 59.4 years \n",
      "from 1939-10-01 to 1999-02-28, to 'USW00014837.png' .\n",
      "\n"
     ]
    }
   ],
   "source": [
    "python3 scripts/example.py USW00014837"
   ]
  },
  {
   "cell_type": "markdown",
   "id": "98274f34-0f46-44e0-939c-d6fe1121a9a9",
   "metadata": {},
   "source": [
    "This should produce a plot: \n",
    "\n",
    "![](USW00014837.png)"
   ]
  },
  {
   "cell_type": "markdown",
   "id": "404ef44e-6939-44f4-b9ff-f76e1a0d5c9f",
   "metadata": {},
   "source": [
    "These results can be shared using our own local origin. \n",
    "\n",
    "As before, the first step will be constructing the URL where we want to place the data. The namespace prefix is `TBD`. In order to avoid collisions, please add your as part of the destination URL so that "
   ]
  },
  {
   "cell_type": "code",
   "execution_count": 4,
   "id": "817a4ce2-7674-4a28-9189-fff184286efb",
   "metadata": {},
   "outputs": [
    {
     "name": "stdout",
     "output_type": "stream",
     "text": [
      "\u001b[31mERROR\u001b[0m[2025-01-28T14:09:42-06:00] error while querying the director at https://osdf-director.osg-htc.org: 404: No namespace found for path. Either it doesn't exist, or the Director is experiencing problems \n",
      "\u001b[31mERROR\u001b[0m[2025-01-28T14:09:42-06:00] Failure putting USW00014837.png: failed to get namespace information for remote URL osdf:///tutorial-origin.osdf-dev.chtc.io/test/ckoch-USW00014837.png: error while querying the director at https://osdf-director.osg-htc.org: 404: No namespace found for path. Either it doesn't exist, or the Director is experiencing problems \n"
     ]
    },
    {
     "ename": "",
     "evalue": "1",
     "output_type": "error",
     "traceback": []
    }
   ],
   "source": [
    "pelican object put USW00014837.png osdf:///tutorial-origin.osdf-dev.chtc.io/test/ckoch-USW00014837.png"
   ]
  },
  {
   "cell_type": "markdown",
   "id": "1c54c3e4-e8e6-4815-b388-5ec7bf8339f3",
   "metadata": {},
   "source": [
    "## List Data Objects\n",
    "\n",
    "TODO?"
   ]
  },
  {
   "cell_type": "code",
   "execution_count": null,
   "id": "7c606547-45e3-46c7-a0ba-83674fbb05fb",
   "metadata": {},
   "outputs": [],
   "source": []
  }
 ],
 "metadata": {
  "kernelspec": {
   "display_name": "Bash",
   "language": "bash",
   "name": "bash"
  },
  "language_info": {
   "codemirror_mode": "shell",
   "file_extension": ".sh",
   "mimetype": "text/x-sh",
   "name": "bash"
  }
 },
 "nbformat": 4,
 "nbformat_minor": 5
}
